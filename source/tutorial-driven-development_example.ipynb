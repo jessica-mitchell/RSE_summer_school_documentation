{
 "cells": [
  {
   "cell_type": "markdown",
   "id": "9f47fcd1-f8a4-4f43-930b-23bc3dce163b",
   "metadata": {},
   "source": [
    "# An example workflow of tutorial-driven development"
   ]
  },
  {
   "cell_type": "markdown",
   "id": "9dc97a1a-6d2e-4009-8113-9490cec4d9d3",
   "metadata": {},
   "source": [
    "Tutorial-driven development puts the focus on user needs rather than code implementation.\n",
    "The tutorial is written first, then the code. \n",
    "\n",
    "It is a rather new concept, and you can see a great use case from this [RSE talk](https://www.youtube.com/watch?v=XjpfgP2SPt8) by Christopher Woods in 2022\n",
    "\n",
    "## What is a tutorial?\n",
    "\n",
    "A tutorial is generally considered a step-by-step procedure that provides the reader with the necessary\n",
    "information to complete a task successfully, with explanations to ensure full understanding. \n",
    "\n",
    "## How would this development approach actually work?\n",
    "\n",
    "This type of approach could be particularly useful for developing new features in software.\n",
    "The focus shifts from how to implement the feature in code to how the user would use that feature.\n",
    "\n",
    "The tutorial becomes the guide for how the code should be developed.\n",
    "\n",
    "Let's take a look at an example workflow:"
   ]
  },
  {
   "cell_type": "markdown",
   "id": "5166e35b-a12f-404f-bd5a-2230f135be58",
   "metadata": {},
   "source": [
    "### Request for new feature\n",
    "\n",
    "We will pretend that you have tool that takes built-in models, runs calculations on them, and plots output.\n",
    "Someone requests a new feature: They want your tool to import models from an external database.\n",
    "\n",
    "In tutorial-driven development, we have to first ask how would we ideally want to execute this feature.\n",
    "How would a user want to accomplish the task?"
   ]
  },
  {
   "cell_type": "markdown",
   "id": "c5ab460d-cfda-4166-8e92-801596d492a2",
   "metadata": {},
   "source": [
    "### Development steps:\n",
    "\n",
    "You now need to approach this problem as if you are a user. \n",
    "\n",
    "\n",
    "1.  Decide on tutorial format (should this be plain text with code snippets, Jupyter Notebook etc.)\n",
    "2.  Start writing the tutorial: Start with the goal of the tutorial.\n",
    "\n",
    "```\n",
    "This tutorial will show  you how you can import data from an external database and compare results between built-in model and the imported model.\n",
    "```\n",
    "3. Determine the prerequisites that a user needs before following the tutorial.\n",
    "```\n",
    "You will need our tool installed as well as access to the external database.\n",
    "```\n",
    "4. Write the steps that would be *ideal* to accomplish the task. Here we are making very simple statements. But the real text should be expanded\n",
    "   to provide sufficient detail that a new user would be able to understand what is happening at each step. \n",
    "\n"
   ]
  },
  {
   "cell_type": "code",
   "execution_count": null,
   "id": "a19eb478-7906-4cc2-9473-faa22919f26e",
   "metadata": {},
   "outputs": [],
   "source": [
    "# Step 1 Load the built-in model from our tool\n",
    "x_model = load.model(\"x\")\n",
    "\n",
    "# Step 2 Calculate equation\n",
    "Result_x = calculate(x_model)\n",
    "\n",
    "# Step 3 Get the external model you want to compare\n",
    "Y_model =  get_model(\"y\")\n",
    "\n",
    "# Step 4 Calculate equations\n",
    "Result_y = calculate(y_model)\n",
    "\n",
    "# Step 5 Compare x and y models\n",
    "Compare_Results =  compare(result_x,result_y)\n",
    "\n",
    "# Step 6 Show results\n",
    "plot(compare_results)\n"
   ]
  },
  {
   "cell_type": "markdown",
   "id": "50b72e6b-ad28-464e-b785-59b3c637741f",
   "metadata": {},
   "source": [
    "Once we have a decent tutorial laid out, we can then go through each of the steps and see how we can implement\n",
    "them in the code.\n",
    "\n",
    "Step 1 and Step 2 is something our tool can already do, so code does not need to change.\n",
    "\n",
    "\n",
    "Next we take a look at Step 3 importing \"y\"\n",
    "\n",
    "We start writing or modifying code to accomplish this task. \n",
    "We determine that code for this step will require 3 tasks:\n",
    " -  Fetch the model\n",
    " -  Move the model to the right location\n",
    " -  Convert model to the correct format\n",
    "\n",
    "As we develop the code for this step, we realize that we actually want the user to set the location for the imported models.\n",
    "\n",
    "\n",
    "So we go back to our tutorial and modify the instructions:\n"
   ]
  },
  {
   "cell_type": "code",
   "execution_count": null,
   "id": "133e023c-28d8-4e2e-a751-5377d1e122e1",
   "metadata": {},
   "outputs": [],
   "source": [
    "\n",
    "# Step 3 provide a path to the model location\n",
    "\n",
    "My_models = \"/path/to/models\"\n",
    "\n",
    "# Step 4 Get the model from the specified location\n",
    "Y_model =  get_model(\"y\", my_models)\n",
    "\n"
   ]
  },
  {
   "cell_type": "markdown",
   "id": "e937e756-7190-4d24-860c-548d243c1ac9",
   "metadata": {},
   "source": [
    "As you work through each step of the tutorial, you update the the code in lockstep with the tutorial.\n",
    "\n",
    "\n",
    "Once each step is completed in the code, you have a functional tutorial, which you can use to test if the code executes\n",
    "as expected!\n",
    "\n"
   ]
  }
 ],
 "metadata": {
  "kernelspec": {
   "display_name": "Python 3 (ipykernel)",
   "language": "python",
   "name": "python3"
  },
  "language_info": {
   "codemirror_mode": {
    "name": "ipython",
    "version": 3
   },
   "file_extension": ".py",
   "mimetype": "text/x-python",
   "name": "python",
   "nbconvert_exporter": "python",
   "pygments_lexer": "ipython3",
   "version": "3.12.4"
  }
 },
 "nbformat": 4,
 "nbformat_minor": 5
}
